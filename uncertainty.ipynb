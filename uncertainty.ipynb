{
 "cells": [
  {
   "cell_type": "code",
   "execution_count": 4,
   "id": "67233370-e1f2-43a6-8203-32d5332d04ef",
   "metadata": {},
   "outputs": [],
   "source": [
    "import torch\n",
    "from torch.nn import Embedding"
   ]
  },
  {
   "cell_type": "markdown",
   "id": "0b5d57a4-f686-4666-bea7-d8152f0ddcd2",
   "metadata": {},
   "source": [
    "## Data Generation"
   ]
  },
  {
   "cell_type": "code",
   "execution_count": 14,
   "id": "d94cf352-35e2-4152-87ef-c01008e6a7b5",
   "metadata": {},
   "outputs": [
    {
     "data": {
      "text/plain": [
       "Parameter containing:\n",
       "tensor([[ 1.3193, -0.0478, -0.1585],\n",
       "        [ 2.1147, -0.4562,  0.6568],\n",
       "        [ 0.2070,  0.3589,  0.4218],\n",
       "        [ 0.6208, -0.7398, -0.0925],\n",
       "        [-1.5320, -0.4249, -0.9489]], requires_grad=True)"
      ]
     },
     "execution_count": 14,
     "metadata": {},
     "output_type": "execute_result"
    }
   ],
   "source": [
    "emb = Embedding(5, 3)\n",
    "\n",
    "emb.weight"
   ]
  },
  {
   "cell_type": "code",
   "execution_count": null,
   "id": "ee04a4ef-73f6-42df-b54b-45fa45db45ba",
   "metadata": {},
   "outputs": [],
   "source": []
  }
 ],
 "metadata": {
  "kernelspec": {
   "display_name": "Python 3 (ipykernel)",
   "language": "python",
   "name": "python3"
  },
  "language_info": {
   "codemirror_mode": {
    "name": "ipython",
    "version": 3
   },
   "file_extension": ".py",
   "mimetype": "text/x-python",
   "name": "python",
   "nbconvert_exporter": "python",
   "pygments_lexer": "ipython3",
   "version": "3.11.4"
  }
 },
 "nbformat": 4,
 "nbformat_minor": 5
}
